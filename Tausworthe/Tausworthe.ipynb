{
  "nbformat": 4,
  "nbformat_minor": 0,
  "metadata": {
    "colab": {
      "name": "Tausworthe",
      "provenance": []
    },
    "kernelspec": {
      "name": "python3",
      "display_name": "Python 3"
    },
    "language_info": {
      "name": "python"
    }
  },
  "cells": [
    {
      "cell_type": "code",
      "metadata": {
        "colab": {
          "base_uri": "https://localhost:8080/"
        },
        "id": "NxwyYt02Nvey",
        "outputId": "88fc38e2-e1a3-4281-dada-36a8bb516b4e"
      },
      "source": [
        "\n",
        "import numpy as np\n",
        "\n",
        "class TrausGenerator(object):\n",
        "    def __init__(self, length: int = 1, debug: bool = False):\n",
        "        self.r = self.q = self.chunk_len = 0\n",
        "        self.debug = debug\n",
        "        self.length = length\n",
        "\n",
        "    def seed(self, r: int = 3, q: int = 5, chunk_len: int = 4):\n",
        "        \"\"\"\n",
        "        Las semillas se definen por las variables r, q y l\n",
        "\n",
        "        Cuando los valores de las variables se calculan aplicando la siguiente formula\n",
        "       \n",
        "            B[i] = (B[i−r] +B[i−q]) mod 2 = B[i−r] XOR B[i−q] (0 < r < q)\n",
        "        \n",
        "        \"\"\"\n",
        "        self.r = r\n",
        "        self.q = q\n",
        "        self.chunk_len = chunk_len\n",
        "\n",
        "    def convert(self, bits: np.ndarray):\n",
        "        res = 0\n",
        "        for index, bit in enumerate(bits):\n",
        "            res += bit * np.power(2, (len(bits) - index - 1))\n",
        "        return res\n",
        "\n",
        "    def random(self, n_decimal: int = 3):\n",
        "        if self.r == 0 or self.q == 0 or self.chunk_len == 0:\n",
        "            self.seed()\n",
        "        self.length_bit = self.length * self.chunk_len\n",
        "        self.B = np.ones(self.length_bit)\n",
        "        for i in range(self.q, self.length_bit):\n",
        "            new_bit = 1 if self.B[i - self.r] != self.B[i - self.q] else 0\n",
        "            self.B[i] = new_bit\n",
        "        self.B = np.array_split(self.B, self.length)\n",
        "        self.decimal = np.array(\n",
        "            [\n",
        "                round(self.convert(seg) / np.power(2, self.chunk_len), n_decimal)\n",
        "                for seg in self.B\n",
        "            ]\n",
        "        )\n",
        "        return self.decimal.tolist()\n",
        "\n",
        "#dimension \n",
        "taus = TrausGenerator(length=15)\n",
        "#valores de las semillas\n",
        "taus.seed(r=10, q=15, chunk_len=25)\n",
        "taus.random()\n"
      ],
      "execution_count": 3,
      "outputs": [
        {
          "output_type": "execute_result",
          "data": {
            "text/plain": [
              "[1.0,\n",
              " 0.97,\n",
              " 0.001,\n",
              " 0.999,\n",
              " 0.031,\n",
              " 0.03,\n",
              " 0.969,\n",
              " 1.0,\n",
              " 0.97,\n",
              " 0.001,\n",
              " 0.999,\n",
              " 0.031,\n",
              " 0.03,\n",
              " 0.969,\n",
              " 1.0]"
            ]
          },
          "metadata": {},
          "execution_count": 3
        }
      ]
    }
  ]
}